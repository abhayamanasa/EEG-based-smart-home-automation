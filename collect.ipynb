{
 "cells": [
  {
   "cell_type": "code",
   "execution_count": 19,
   "id": "8738fb6b-1972-4415-9197-22bf99d7cd84",
   "metadata": {},
   "outputs": [
    {
     "name": "stdout",
     "output_type": "stream",
     "text": [
      "Collecting data...\n"
     ]
    }
   ],
   "source": [
    "import serial\n",
    "import csv\n",
    "import time\n",
    "import datetime  \n",
    "\n",
    "COM_PORT = 'COM16'  # Replace with your Arduino's COM port\n",
    "BAUD_RATE = 115200  # Must match the Arduino's BAUD_RATE\n",
    "\n",
    "# Open the serial connection\n",
    "ser = serial.Serial(COM_PORT, BAUD_RATE)\n",
    "\n",
    "# Create a CSV file to save the data\n",
    "with open('signal.csv', 'a', newline='') as csvfile:\n",
    "    csvwriter = csv.writer(csvfile)\n",
    "\n",
    "    # Set the maximum duration of the data collection (in seconds)\n",
    "    max_duration = 300\n",
    "\n",
    "    start_time = time.time()\n",
    "\n",
    "    print(\"Collecting data...\")\n",
    "\n",
    "    while time.time() - start_time < max_duration:\n",
    "        # Read a line of data from the Arduino (until a newline character)\n",
    "        data = ser.readline().decode(\"latin-1\").strip()\n",
    "\n",
    "        # Get the current timestamp\n",
    "        current_time = datetime.datetime.now().strftime('%Y-%m-%d %H:%M:%S.%f')\n",
    "        \n",
    "        # Split the data into a list of values using the comma as a delimiter\n",
    "        values = data.split(',')\n",
    "\n",
    "        if len(values) > 0  and values[0].isdigit():\n",
    "            # Save the data to the CSV file along with the timestamp\n",
    "            csvwriter.writerow([current_time, values[0]])\n",
    "\n",
    "ser.close()"
   ]
  },
  {
   "cell_type": "code",
   "execution_count": null,
   "id": "3f429d9c-83db-4a6a-8fd5-b38ff131774a",
   "metadata": {},
   "outputs": [],
   "source": []
  }
 ],
 "metadata": {
  "kernelspec": {
   "display_name": "Python 3 (ipykernel)",
   "language": "python",
   "name": "python3"
  },
  "language_info": {
   "codemirror_mode": {
    "name": "ipython",
    "version": 3
   },
   "file_extension": ".py",
   "mimetype": "text/x-python",
   "name": "python",
   "nbconvert_exporter": "python",
   "pygments_lexer": "ipython3",
   "version": "3.11.5"
  }
 },
 "nbformat": 4,
 "nbformat_minor": 5
}
